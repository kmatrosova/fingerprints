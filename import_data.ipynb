{
 "cells": [
  {
   "cell_type": "code",
   "execution_count": 1,
   "metadata": {},
   "outputs": [],
   "source": [
    "import csv\n",
    "import numpy as np\n",
    "from itertools import groupby\n",
    "from operator import itemgetter"
   ]
  },
  {
   "cell_type": "code",
   "execution_count": 2,
   "metadata": {},
   "outputs": [],
   "source": [
    "def get_data_from_csv(filename):\n",
    "    \n",
    "    big_likes = []\n",
    "    big_users = []\n",
    "    big_items = []\n",
    "\n",
    "    with open(filename, newline='') as csvfile:\n",
    "        spamreader = csv.reader(csvfile, delimiter=',', quotechar='|')\n",
    "        for row in spamreader:\n",
    "            big_likes.append(row)\n",
    "            big_users.append(row[0])\n",
    "            big_items.append(row[1])\n",
    "\n",
    "    big_users = np.unique(big_users).tolist()\n",
    "\n",
    "    big_items = np.unique(big_items).tolist()\n",
    "\n",
    "    big_user_items = {user: list(list(zip(*item))[1]) for user, item in groupby(big_likes, itemgetter(0))}\n",
    "\n",
    "    big_item_users = {item: list(list(zip(*user))[0]) \n",
    "                      for item, user in groupby(sorted(big_likes, key=itemgetter(1)), itemgetter(1))}\n",
    "    \n",
    "    print('Data was imported with success.')\n",
    "    return big_likes, big_users, big_items, big_user_items, big_item_users\n",
    "    "
   ]
  },
  {
   "cell_type": "code",
   "execution_count": null,
   "metadata": {},
   "outputs": [],
   "source": []
  }
 ],
 "metadata": {
  "kernelspec": {
   "display_name": "Python 3",
   "language": "python",
   "name": "python3"
  },
  "language_info": {
   "codemirror_mode": {
    "name": "ipython",
    "version": 3
   },
   "file_extension": ".py",
   "mimetype": "text/x-python",
   "name": "python",
   "nbconvert_exporter": "python",
   "pygments_lexer": "ipython3",
   "version": "3.8.2"
  }
 },
 "nbformat": 4,
 "nbformat_minor": 4
}
