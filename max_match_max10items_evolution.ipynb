{
 "cells": [
  {
   "cell_type": "code",
   "execution_count": 88,
   "metadata": {},
   "outputs": [],
   "source": [
    "import csv\n",
    "import copy\n",
    "import numpy as np\n",
    "import random\n",
    "from igraph import *\n",
    "import math\n",
    "import itertools\n",
    "from itertools import groupby\n",
    "from itertools import chain\n",
    "from operator import itemgetter\n",
    "from scipy.optimize import linear_sum_assignment\n",
    "import time\n",
    "import multiprocess\n",
    "from networkx import Graph\n",
    "from networkx import connected_components\n",
    "from networkx.algorithms import bipartite\n",
    "from networkx.algorithms.bipartite.matching import minimum_weight_full_matching, maximum_matching, hopcroft_karp_matching\n",
    "from networkx.algorithms import maximal_matching\n",
    "import random\n",
    "import seaborn as sns\n",
    "import pandas as pd"
   ]
  },
  {
   "cell_type": "code",
   "execution_count": 89,
   "metadata": {},
   "outputs": [],
   "source": [
    "# 50 000 users - 10 favourites\n",
    "\n",
    "big_likes = []\n",
    "big_users = []\n",
    "big_items = []\n",
    "\n",
    "with open('bipartite_10.csv', newline='') as csvfile:\n",
    "    spamreader = csv.reader(csvfile, delimiter=',', quotechar='|')\n",
    "    for row in spamreader:\n",
    "        big_likes.append([row[0], row[1], 1])\n",
    "        big_users.append(row[0])\n",
    "        big_items.append(row[1])\n",
    "\n",
    "\n",
    "big_users = np.unique(big_users).tolist()\n",
    "\n",
    "big_items = np.unique(big_items).tolist()\n",
    "\n",
    "big_user_items = {user: list(list(zip(*item))[1]) for user, item in groupby(big_likes, itemgetter(0))}"
   ]
  },
  {
   "cell_type": "code",
   "execution_count": 90,
   "metadata": {},
   "outputs": [],
   "source": [
    "# k among n combinations\n",
    "def combinations(args):\n",
    "    user, items, k = args\n",
    "    return np.array([[user, '&'.join(row)] for row in list(itertools.combinations(items, k))])\n"
   ]
  },
  {
   "cell_type": "code",
   "execution_count": 93,
   "metadata": {},
   "outputs": [],
   "source": [
    "\n",
    "def full_match(users, items, user_items, likes):\n",
    "    \"\"\"\n",
    "        Parameters\n",
    "        ----------\n",
    "            data: List[Tuple[int, int]]\n",
    "                List of couples like (user_id, item_id).\n",
    "                An item could be a song, an artist or something else.\n",
    "\n",
    "        Returns\n",
    "        ----------\n",
    "            fingerprints: List[Tuple[int, List[int]]]\n",
    "                List of couples like (user_id, fingerprint).\n",
    "                Fingerprint being a list of items.\n",
    "            cost: int\n",
    "                Sum of the lengths of all of the fingerprints.\n",
    "            k: int\n",
    "                Length of the biggest fingerprint.\n",
    "    \"\"\"\n",
    "    \n",
    "    # Pour k allant de 1 à n?\n",
    "    for k in range (1, 10):\n",
    "        \n",
    "        # Création des ensembles des items de taille allant de 1 à k\n",
    "        if k == 1:\n",
    "            G = Graph()\n",
    "            # Add nodes with the node attribute \"bipartite\"\n",
    "            G.add_nodes_from(users, bipartite=0)\n",
    "            G.add_nodes_from(items, bipartite=1)\n",
    "            # Add edges only between nodes of opposite node sets\n",
    "            G.add_weighted_edges_from(likes)\n",
    "            \n",
    "        else:\n",
    "            # Si on a un fingerprint pour chaque user - fin de la fonction\n",
    "            if len(fingerprints) == len(users):\n",
    "                return fingerprints\n",
    "            \n",
    "            # Sinon - générer les combinaisons qui existent parmi les ensebles d'items des users\n",
    "            else:\n",
    "                #print(len(np.unique(fingerprints.keys())), len(np.unique(users)))\n",
    "                #undefined_users = [u for u in users if u not in fingerprints.keys()]\n",
    "                #print(undefined_users)\n",
    "                try:\n",
    "                    # Create items combinations of size k\n",
    "                    pool = multiprocess.Pool()\n",
    "                    my_combinations = pool.map(combinations, \n",
    "                                               ([user, item_list, k] for user, item_list in user_items.items() \n",
    "                                                if len(item_list) >= k))\n",
    "                    new_likes = []\n",
    "\n",
    "                    \n",
    "                    for i in range(0, len(my_combinations)):\n",
    "                        for j in range(0, len(my_combinations[i])):\n",
    "                            new_likes.append([my_combinations[i][j][0], my_combinations[i][j][1], k])\n",
    "                            \n",
    "                    new_items = np.array(np.unique(np.array(new_likes)[:,1]))\n",
    "                    \n",
    "                    G.add_nodes_from(new_items, bipartite=1) \n",
    "                    G.add_weighted_edges_from(new_likes)\n",
    "                    \n",
    "                # To make sure processes are closed in the end, even if errors happen\n",
    "                finally: \n",
    "                    pool.close()\n",
    "                    pool.join()\n",
    "\n",
    "                    \n",
    "        # Init fingerprints             \n",
    "        fingerprints = {}\n",
    "        # Go through connected components of the graph\n",
    "        for c in connected_components(G):\n",
    "            matchings = maximal_matching(G.subgraph(c))\n",
    "            for m in matchings: \n",
    "                if m[0].lower().islower():\n",
    "                    fingerprints[m[0]] = m[1]\n",
    "                else:\n",
    "                    fingerprints[m[1]] = m[0]\n",
    "                    \n",
    "        # Calculate sum_cards and avg_card \n",
    "        sum_cards = 0\n",
    "        \n",
    "        for f in fingerprints.values():\n",
    "            sum_cards += f.count('&') + 1\n",
    "        \n",
    "        avg_card = sum_cards / len(fingerprints.values())\n",
    "        #print('avg_card', avg_card)\n",
    "        \n",
    "        #print('Nb fingerprints', len(fingerprints), 'Sum of fingerprints cardinals:', sum_cards, 'avg_card:', avg_card, 'k:', k)\n",
    "        \n",
    "        # If there is a fingerprint for each user - end of algorithm\n",
    "        if len(fingerprints) == len(users):\n",
    "            return fingerprints, sum_cards, avg_card, k\n",
    "        \n",
    "    return fingerprints, sum_cards, avg_card, k"
   ]
  },
  {
   "cell_type": "code",
   "execution_count": 96,
   "metadata": {},
   "outputs": [
    {
     "name": "stdout",
     "output_type": "stream",
     "text": [
      "{'nb_users': 100, 'avg_avg_cards': 1.0, 'avg_k': 1.0, 'max_k': 1}\n",
      "{'nb_users': 1000, 'avg_avg_cards': 1.0733000000000001, 'avg_k': 2.0, 'max_k': 2}\n",
      "{'nb_users': 10000, 'avg_avg_cards': 1.4044299999999996, 'avg_k': 3.0, 'max_k': 3}\n"
     ]
    }
   ],
   "source": [
    "# From 100 to 10 000 users\n",
    "\n",
    "results = []\n",
    "\n",
    "for power in range(2,5):\n",
    "    \n",
    "    avg_cards = []\n",
    "    sum_cards = []\n",
    "    ks = []\n",
    "    \n",
    "    for i in range(0,10):\n",
    "        users = random.sample(big_users, k=10**power)\n",
    "        user_items = {}\n",
    "\n",
    "        for u in users:\n",
    "            user_items[u] = big_user_items[u]\n",
    "\n",
    "        items = np.unique(list(chain.from_iterable(list(user_items.values())))).tolist()\n",
    "\n",
    "        likes = []\n",
    "        for user, item_list in user_items.items():\n",
    "            for item in item_list:\n",
    "                likes.append([user, item, 1])\n",
    "\n",
    "        # Fingerprints\n",
    "\n",
    "        fingerprints, sum_card, avg_card, k = full_match(users, items, user_items, likes)\n",
    "        \n",
    "        avg_cards.append(avg_card)\n",
    "        sum_cards.append(sum_card)\n",
    "        ks.append(k)\n",
    "    \n",
    "    results.append({'nb_users': 10**power,\n",
    "                    'avg_avg_cards': sum(avg_cards) / 10,\n",
    "                    'avg_k': sum(ks) / 10,\n",
    "                    'max_k': max(ks)})\n",
    "    \n",
    "    print({'nb_users': 10**power,\n",
    "           'avg_avg_cards': sum(avg_cards) / 10,\n",
    "           'avg_k': sum(ks) / 10,\n",
    "           'max_k': max(ks)})"
   ]
  },
  {
   "cell_type": "code",
   "execution_count": 97,
   "metadata": {},
   "outputs": [],
   "source": [
    "# For 50 000 users\n",
    "\n",
    "fingerprints, sum_card, avg_card, k = full_match(big_users, big_items, big_user_items, big_likes)\n",
    "\n",
    "results.append({'nb_users': 50000,\n",
    "                'avg_avg_cards': avg_card,\n",
    "                'avg_k': k,\n",
    "                'max_k': k})\n"
   ]
  },
  {
   "cell_type": "code",
   "execution_count": 102,
   "metadata": {},
   "outputs": [
    {
     "name": "stdout",
     "output_type": "stream",
     "text": [
      "   nb_users  avg_avg_cards  avg_k  max_k\n",
      "0       100        1.00000    1.0      1\n",
      "1      1000        1.07330    2.0      2\n",
      "2     10000        1.40443    3.0      3\n",
      "3     50000        1.66698    3.0      3\n"
     ]
    }
   ],
   "source": [
    "df = pd.DataFrame.from_dict(results)\n",
    "print(df)"
   ]
  },
  {
   "cell_type": "code",
   "execution_count": 87,
   "metadata": {},
   "outputs": [
    {
     "data": {
      "image/png": "[encoded data removed]",
      "text/plain": [
       "<Figure size 432x288 with 1 Axes>"
      ]
     },
     "metadata": {
      "needs_background": "light"
     },
     "output_type": "display_data"
    },
    {
     "data": {
      "text/plain": [
       "<Figure size 432x288 with 0 Axes>"
      ]
     },
     "metadata": {},
     "output_type": "display_data"
    }
   ],
   "source": [
    "ax = plt.gca()\n",
    "plt.figure()\n",
    "df.plot(kind='line',x='nb_users',y='max_k',color='red', ax=ax, yticks=[1, 2, 3, 4], ylabel='k')\n",
    "df.plot(kind='line',x='nb_users',y='avg_avg_cards',color='blue', ax=ax, yticks=[1, 2, 3, 4])\n",
    "plt.show()"
   ]
  },
  {
   "cell_type": "code",
   "execution_count": null,
   "metadata": {},
   "outputs": [],
   "source": []
  }
 ],
 "metadata": {
  "kernelspec": {
   "display_name": "Python 3",
   "language": "python",
   "name": "python3"
  },
  "language_info": {
   "codemirror_mode": {
    "name": "ipython",
    "version": 3
   },
   "file_extension": ".py",
   "mimetype": "text/x-python",
   "name": "python",
   "nbconvert_exporter": "python",
   "pygments_lexer": "ipython3",
   "version": "3.8.2"
  }
 },
 "nbformat": 4,
 "nbformat_minor": 4
}
