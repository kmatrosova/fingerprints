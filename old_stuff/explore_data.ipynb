{
 "cells": [
  {
   "cell_type": "code",
   "execution_count": 25,
   "metadata": {},
   "outputs": [],
   "source": [
    "import csv\n",
    "import copy\n",
    "import numpy as np\n",
    "from itertools import groupby\n",
    "from operator import itemgetter\n",
    "from operator import itemgetter\n",
    "import networkx as nx\n",
    "import random\n",
    "import itertools\n",
    "from itertools import chain\n",
    "import statistics\n",
    "import multiprocess\n",
    "from statistics import mean, stdev, median\n",
    "import pandas as pd\n",
    "import matplotlib.pyplot as plt\n",
    "import seaborn as sns\n",
    "from scipy.stats import norm\n",
    "import plotly.graph_objects as go\n",
    "from networkx import Graph\n",
    "from networkx import connected_components\n",
    "from scipy.optimize import curve_fit\n",
    "import collections\n",
    "from math import *"
   ]
  },
  {
   "cell_type": "code",
   "execution_count": 26,
   "metadata": {},
   "outputs": [],
   "source": [
    "def info_table(big_user_items, big_item_users):\n",
    "    len_big_user_items = [len(row[1]) for row in big_user_items.items()]\n",
    "    len_big_item_users = [len(row[1]) for row in big_item_users.items()]\n",
    "\n",
    "    info_table = [['min', 'max', 'mean', 'stdev', 'median'],\n",
    "                  [min(len_big_user_items), max(len_big_user_items), mean(len_big_user_items), stdev(len_big_user_items), median(len_big_user_items)],\n",
    "                  [min(len_big_item_users), max(len_big_item_users), mean(len_big_item_users), stdev(len_big_item_users), median(len_big_item_users)]\n",
    "                 ]\n",
    "    return info_table"
   ]
  },
  {
   "cell_type": "code",
   "execution_count": 27,
   "metadata": {},
   "outputs": [],
   "source": [
    "def distribution(data):\n",
    "    count_data = [len(v) for k, v in data.items()]\n",
    "    distribution = {}\n",
    "    for row in count_data:\n",
    "        if row not in distribution:\n",
    "            distribution[row] = count_data.count(row)\n",
    "    return distribution"
   ]
  },
  {
   "cell_type": "code",
   "execution_count": 36,
   "metadata": {},
   "outputs": [],
   "source": [
    "# Functions to fit power distributions\n",
    "\n",
    "def power_law(x, a, b):\n",
    "    return a*np.power(x, b)\n",
    "\n",
    "def pareto_law(x, a, b):\n",
    "    return a**(b/np.power(x, b+1))\n",
    "\n",
    "# Fit the dummy power-law data\n",
    "def simple_fit(data):\n",
    "    xs = list(data.keys())\n",
    "    ys = list(data.values())\n",
    "    pars, cov = curve_fit(f=power_law, xdata=xs, ydata=ys, p0=[0, 0], bounds=(-np.inf, np.inf))\n",
    "    return pars, xs, power_law(xs, *pars)\n",
    "\n",
    "# Fit power-law data by log bins \n",
    "def log_fit(data, n=3):\n",
    "    data = collections.OrderedDict(sorted(data.items()))\n",
    "    power = 1\n",
    "    fitted_xs = []\n",
    "    fitted_ys = []\n",
    "    coefs = []\n",
    "    while n**(power-1) <= max(data.keys()):\n",
    "        my_bin = {k: v for k, v in data.items() if k >= n**(power-1) and k < n**power}\n",
    "        xs = list(my_bin.keys())\n",
    "        ys = list(my_bin.values())\n",
    "        pars, cov = curve_fit(f=power_law, xdata=xs, ydata=ys, p0=[0, 0], bounds=(-np.inf, np.inf))\n",
    "        coefs.append(pars)\n",
    "        for x in xs:\n",
    "            fitted_xs.append(x)\n",
    "            fitted_ys.append(power_law(x, *pars))\n",
    "        power += 1\n",
    "    return coefs, fitted_xs, fitted_ys \n",
    "\n",
    "# Log binning by mean value\n",
    "def log_binning(data, n=3):\n",
    "    data = collections.OrderedDict(sorted(data.items()))\n",
    "    binned_data = {}\n",
    "    power = 1\n",
    "    while n**(power-1) <= max(data.keys()):\n",
    "        print(n**(power-1), n**power, max(data.keys()))\n",
    "        my_bin = {k: v for k, v in data.items() if k >= n**(power-1) and k < n**power}\n",
    "        mean_value = mean(list(my_bin.values()))\n",
    "        for k, v in my_bin.items():\n",
    "            binned_data[k] = mean_value\n",
    "        power += 1\n",
    "    return binned_data"
   ]
  },
  {
   "cell_type": "code",
   "execution_count": 34,
   "metadata": {},
   "outputs": [],
   "source": [
    "def fit_data(data, x_axe, y_axe, fit_func=simple_fit, n=3):\n",
    "    df = pd.DataFrame(data={x_axe: list(data.keys()), \n",
    "                            y_axe: list(data.values())})\n",
    "    coefs, xs, ys = fit_func(data)\n",
    "    fitted_df = pd.DataFrame(data={x_axe: xs, \n",
    "                                   y_axe: ys})\n",
    "    return fitted_df, coefs\n"
   ]
  },
  {
   "cell_type": "code",
   "execution_count": 31,
   "metadata": {},
   "outputs": [],
   "source": [
    "def predict_data(xs, coefs, x_axe, y_axe, fit_func=simple_fit, n=3):\n",
    "    predicted_data = {}\n",
    "    for x in xs:\n",
    "        if fit_func == simple_fit:\n",
    "            a, b = coefs\n",
    "        elif fit_func == log_fit:\n",
    "            a, b = coefs[int(log(x, n))]\n",
    "        predicted_data[x] = power_law(x, a, b)\n",
    "    predicted_df = pd.DataFrame(data={x_axe: list(predicted_data.keys()), \n",
    "                                      y_axe: list(predicted_data.values())})\n",
    "    return predicted_df\n"
   ]
  },
  {
   "cell_type": "code",
   "execution_count": 38,
   "metadata": {},
   "outputs": [],
   "source": [
    "def plot_data_prediction_fit(training_df, fitted_df, predicted_df, title, x_axe, y_axe, scale='log'):\n",
    "    g = sns.regplot(x=x_axe, y=y_axe, data=training_df, fit_reg=False, label='data')\n",
    "    g = sns.regplot(x=x_axe, y=y_axe, data=predicted_df, fit_reg=False, label='predicted data')\n",
    "    g = sns.lineplot(x=x_axe, y=y_axe, data=fitted_df, label='distribution function')\n",
    "    g.set_title(title)\n",
    "    if scale == 'log':\n",
    "        g.set(xscale='log', yscale='log')"
   ]
  },
  {
   "cell_type": "code",
   "execution_count": null,
   "metadata": {},
   "outputs": [],
   "source": []
  }
 ],
 "metadata": {
  "kernelspec": {
   "display_name": "Python 3",
   "language": "python",
   "name": "python3"
  },
  "language_info": {
   "codemirror_mode": {
    "name": "ipython",
    "version": 3
   },
   "file_extension": ".py",
   "mimetype": "text/x-python",
   "name": "python",
   "nbconvert_exporter": "python",
   "pygments_lexer": "ipython3",
   "version": "3.8.2"
  }
 },
 "nbformat": 4,
 "nbformat_minor": 4
}
