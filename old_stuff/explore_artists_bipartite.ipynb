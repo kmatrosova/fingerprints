{
 "cells": [
  {
   "cell_type": "code",
   "execution_count": null,
   "metadata": {},
   "outputs": [],
   "source": []
  },
  {
   "cell_type": "code",
   "execution_count": null,
   "metadata": {},
   "outputs": [],
   "source": [
    "big_likes, big_users, big_items, big_user_items, big_item_users = get_data_from_csv('../data/users_bipartite_aligned_artist_1000000.csv')\n",
    "print('\\nNumber or users:', len(big_users))\n",
    "print('\\nNumber or artists:', len(big_items))"
   ]
  },
  {
   "cell_type": "code",
   "execution_count": null,
   "metadata": {},
   "outputs": [],
   "source": [
    "G = Graph()\n",
    "# Add nodes with the node attribute \"bipartite\"\n",
    "G.add_nodes_from(big_users, bipartite=0)\n",
    "G.add_nodes_from(big_items, bipartite=1)\n",
    "# Add edges only between nodes of opposite node sets\n",
    "G.add_weighted_edges_from(big_likes)"
   ]
  },
  {
   "cell_type": "code",
   "execution_count": null,
   "metadata": {},
   "outputs": [],
   "source": [
    "print('nb of components', sum(1 for x in connected_components(G)))"
   ]
  },
  {
   "cell_type": "code",
   "execution_count": null,
   "metadata": {},
   "outputs": [],
   "source": [
    "data_comp = pd.DataFrame(data={'size': list(nb_comp_per_size.keys()), \n",
    "                               'nb_components': list(nb_comp_per_size.values())})\n",
    "g = sns.regplot(x='size', y='nb_components', data=data_comp, fit_reg=False)\n",
    "g.set(xscale=\"log\", yscale=\"log\")\n",
    "g.set_title('Distibution of number of components by size')"
   ]
  }
 ],
 "metadata": {
  "kernelspec": {
   "display_name": "Python 3",
   "language": "python",
   "name": "python3"
  },
  "language_info": {
   "codemirror_mode": {
    "name": "ipython",
    "version": 3
   },
   "file_extension": ".py",
   "mimetype": "text/x-python",
   "name": "python",
   "nbconvert_exporter": "python",
   "pygments_lexer": "ipython3",
   "version": "3.8.2"
  }
 },
 "nbformat": 4,
 "nbformat_minor": 4
}
